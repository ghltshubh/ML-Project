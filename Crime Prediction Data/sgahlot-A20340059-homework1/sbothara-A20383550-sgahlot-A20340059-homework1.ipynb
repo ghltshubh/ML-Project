{
 "cells": [
  {
   "cell_type": "markdown",
   "metadata": {},
   "source": [
    "# MACHINE LEARNING - HOMEWORK 1\n",
    "Team Members: <ul><li>Shubham Bothara A20383550\n",
    "<li>Shubhankar Gahlot A20340059"
   ]
  },
  {
   "cell_type": "code",
   "execution_count": 108,
   "metadata": {
    "collapsed": true
   },
   "outputs": [],
   "source": [
    "#import all the required libraries\n",
    "from sklearn import tree\n",
    "from sklearn.linear_model import LinearRegression, LogisticRegressionCV, RidgeCV, Ridge\n",
    "from sklearn.preprocessing import PolynomialFeatures\n",
    "from sklearn.model_selection import KFold   \n",
    "from sklearn.ensemble import RandomForestClassifier, BaggingClassifier\n",
    "from sklearn.tree import DecisionTreeClassifier, export_graphviz\n",
    "from sklearn import metrics\n",
    "from sklearn.naive_bayes import GaussianNB\n",
    "from sklearn import model_selection\n",
    "from sklearn.svm import LinearSVC, NuSVC\n",
    "from sklearn.neighbors import KNeighborsClassifier\n",
    "import pandas as pd\n",
    "import numpy as np\n",
    "import random\n",
    "import matplotlib.pyplot as plt"
   ]
  },
  {
   "cell_type": "markdown",
   "metadata": {},
   "source": [
    "## 1.\tDecision Trees"
   ]
  },
  {
   "cell_type": "markdown",
   "metadata": {},
   "source": [
    "### a.\tCreate a new field “highCrime” which is true if the crime rate per capita (ViolentCrimesPerPop) is greater than 0.1, and false otherwise. What are the percentage of positive and negative instances in the dataset?"
   ]
  },
  {
   "cell_type": "code",
   "execution_count": 109,
   "metadata": {
    "scrolled": true
   },
   "outputs": [
    {
     "name": "stdout",
     "output_type": "stream",
     "text": [
      "Percent of positive instance: 62.7382146439\n",
      "Percent of negative instance: 37.2617853561\n"
     ]
    }
   ],
   "source": [
    "cleanData = pd.read_csv(\"communities-crime-clean.csv\")\n",
    "cleanData['highCrime'] = 0\n",
    "condition = cleanData['ViolentCrimesPerPop'] > 0.1\n",
    "cleanData.loc[condition, 'highCrime'] = 1\n",
    "PercentageOfHighCrime = cleanData['highCrime'].value_counts()/cleanData['highCrime'].count()*100\n",
    "percentPositiveInstance = PercentageOfHighCrime[1]\n",
    "percentNegativeInstance = PercentageOfHighCrime[0]\n",
    "print('Percent of positive instance: ' + str(percentPositiveInstance))\n",
    "print('Percent of negative instance: ' + str(percentNegativeInstance))"
   ]
  },
  {
   "cell_type": "markdown",
   "metadata": {},
   "source": [
    "### b.\t Use DecisionTreeClassifier to learn a decision tree to predict highCrime on the entire dataset\n",
    "\n",
    "We tried this in 3 ways with :<ol><li> same Training and Testing Data \\n\n",
    "                              <li> pruning trees to max level 3 and, \n",
    "                              <li> 80:20 Train data : Test data split"
   ]
  },
  {
   "cell_type": "markdown",
   "metadata": {},
   "source": [
    "#### i.\tWhat are the training accuracy, precision, and recall for this tree? "
   ]
  },
  {
   "cell_type": "code",
   "execution_count": 110,
   "metadata": {},
   "outputs": [
    {
     "name": "stdout",
     "output_type": "stream",
     "text": [
      "Accuracy : 100.000%\n",
      "Precision : 100.000%\n",
      "Recall : 100.000%\n"
     ]
    }
   ],
   "source": [
    "cleanDataDT = cleanData.drop(['fold','state','communityname','ViolentCrimesPerPop'], axis=1)\n",
    "outcome = 'highCrime'\n",
    "predictors = list(cleanDataDT)\n",
    "predictors.remove(outcome)\n",
    "\n",
    "decisionTree = tree.DecisionTreeClassifier()\n",
    "decisionTree = decisionTree.fit(cleanDataDT[predictors], cleanData[outcome])\n",
    "prediction = decisionTree.predict(cleanDataDT[predictors])\n",
    "accuracy = metrics.accuracy_score(prediction,cleanDataDT[outcome])\n",
    "print ('Accuracy : %s' % '{0:.3%}'.format(accuracy))   \n",
    "    \n",
    "precision = metrics.precision_score(prediction,cleanDataDT[outcome])\n",
    "print ('Precision : %s' % '{0:.3%}'.format(precision))   \n",
    "\n",
    "recall = metrics.recall_score(prediction,cleanDataDT[outcome])\n",
    "print ('Recall : %s' % '{0:.3%}'.format(recall))"
   ]
  },
  {
   "cell_type": "code",
   "execution_count": 111,
   "metadata": {},
   "outputs": [
    {
     "name": "stdout",
     "output_type": "stream",
     "text": [
      "Accuracy : 83.601%\n",
      "Precision : 83.054%\n",
      "Recall : 90.035%\n"
     ]
    }
   ],
   "source": [
    "cleanDataDT = cleanData.drop(['fold','state','communityname','ViolentCrimesPerPop'], axis=1)\n",
    "outcome = 'highCrime'\n",
    "predictors = list(cleanDataDT)\n",
    "predictors.remove(outcome)\n",
    "\n",
    "decisionTree = tree.DecisionTreeClassifier(max_depth=3)\n",
    "decisionTree = decisionTree.fit(cleanDataDT[predictors], cleanData[outcome])\n",
    "prediction = decisionTree.predict(cleanDataDT[predictors])\n",
    "accuracy = metrics.accuracy_score(prediction,cleanDataDT[outcome])\n",
    "print ('Accuracy : %s' % '{0:.3%}'.format(accuracy))   \n",
    "    \n",
    "precision = metrics.precision_score(prediction,cleanDataDT[outcome])\n",
    "print ('Precision : %s' % '{0:.3%}'.format(precision))   \n",
    "\n",
    "recall = metrics.recall_score(prediction,cleanDataDT[outcome])\n",
    "print ('Recall : %s' % '{0:.3%}'.format(recall))"
   ]
  },
  {
   "cell_type": "code",
   "execution_count": 112,
   "metadata": {},
   "outputs": [
    {
     "name": "stdout",
     "output_type": "stream",
     "text": [
      "For data split in 80 train - 20 test\n",
      "Accuracy : 83.208%\n",
      "Precision : 84.490%\n",
      "Recall : 87.712%\n"
     ]
    }
   ],
   "source": [
    "train, test = np.split(cleanDataDT.sample(frac=1), [ int(.8*len(cleanDataDT))])\n",
    "decisionTree2 = decisionTree.fit(train[predictors], train[outcome])\n",
    "\n",
    "print(\"For data split in 80 train - 20 test\")\n",
    "prediction = decisionTree2.predict(test[predictors])\n",
    "accuracy = metrics.accuracy_score(prediction,test[outcome])\n",
    "print ('Accuracy : %s' % '{0:.3%}'.format(accuracy))   \n",
    "    \n",
    "precision = metrics.precision_score(prediction,test[outcome])\n",
    "print ('Precision : %s' % '{0:.3%}'.format(precision))   \n",
    "\n",
    "recall = metrics.recall_score(prediction,test[outcome])\n",
    "print ('Recall : %s' % '{0:.3%}'.format(recall))"
   ]
  },
  {
   "cell_type": "markdown",
   "metadata": {},
   "source": [
    "#### ii.\tWhat are the main features used for classification? Can you explain why they make sense (or not)?"
   ]
  },
  {
   "cell_type": "code",
   "execution_count": 113,
   "metadata": {},
   "outputs": [
    {
     "name": "stdout",
     "output_type": "stream",
     "text": [
      "The Top 10 features selected by decision tree are: \n"
     ]
    },
    {
     "data": {
      "text/html": [
       "<div>\n",
       "<table border=\"1\" class=\"dataframe\">\n",
       "  <thead>\n",
       "    <tr style=\"text-align: right;\">\n",
       "      <th></th>\n",
       "      <th>featureName</th>\n",
       "      <th>infoGain</th>\n",
       "    </tr>\n",
       "  </thead>\n",
       "  <tbody>\n",
       "    <tr>\n",
       "      <th>44</th>\n",
       "      <td>PctKids2Par</td>\n",
       "      <td>0.628694</td>\n",
       "    </tr>\n",
       "    <tr>\n",
       "      <th>3</th>\n",
       "      <td>racePctWhite</td>\n",
       "      <td>0.239345</td>\n",
       "    </tr>\n",
       "    <tr>\n",
       "      <th>5</th>\n",
       "      <td>racePctHisp</td>\n",
       "      <td>0.104565</td>\n",
       "    </tr>\n",
       "    <tr>\n",
       "      <th>43</th>\n",
       "      <td>PctFam2Par</td>\n",
       "      <td>0.027396</td>\n",
       "    </tr>\n",
       "    <tr>\n",
       "      <th>0</th>\n",
       "      <td>population</td>\n",
       "      <td>0.000000</td>\n",
       "    </tr>\n",
       "    <tr>\n",
       "      <th>64</th>\n",
       "      <td>PersPerOccupHous</td>\n",
       "      <td>0.000000</td>\n",
       "    </tr>\n",
       "    <tr>\n",
       "      <th>73</th>\n",
       "      <td>PctHousOwnOcc</td>\n",
       "      <td>0.000000</td>\n",
       "    </tr>\n",
       "    <tr>\n",
       "      <th>72</th>\n",
       "      <td>PctHousOccup</td>\n",
       "      <td>0.000000</td>\n",
       "    </tr>\n",
       "    <tr>\n",
       "      <th>71</th>\n",
       "      <td>HousVacant</td>\n",
       "      <td>0.000000</td>\n",
       "    </tr>\n",
       "    <tr>\n",
       "      <th>70</th>\n",
       "      <td>MedNumBR</td>\n",
       "      <td>0.000000</td>\n",
       "    </tr>\n",
       "  </tbody>\n",
       "</table>\n",
       "</div>"
      ],
      "text/plain": [
       "         featureName  infoGain\n",
       "44       PctKids2Par  0.628694\n",
       "3       racePctWhite  0.239345\n",
       "5        racePctHisp  0.104565\n",
       "43        PctFam2Par  0.027396\n",
       "0         population  0.000000\n",
       "64  PersPerOccupHous  0.000000\n",
       "73     PctHousOwnOcc  0.000000\n",
       "72      PctHousOccup  0.000000\n",
       "71        HousVacant  0.000000\n",
       "70          MedNumBR  0.000000"
      ]
     },
     "execution_count": 113,
     "metadata": {},
     "output_type": "execute_result"
    }
   ],
   "source": [
    "# Get the best features\n",
    "impFeatureDf = pd.DataFrame(columns=['featureName','infoGain'])\n",
    "feature = np.array(cleanDataDT.columns)\n",
    "impFeatureDf['featureName'] = np.array(cleanDataDT[predictors].columns)\n",
    "impFeatureDf['infoGain'] = decisionTree.feature_importances_\n",
    "print ('The Top 10 features selected by decision tree are: ')\n",
    "impFeatureDf.sort_values('infoGain', ascending=False).head(10)"
   ]
  },
  {
   "cell_type": "markdown",
   "metadata": {},
   "source": [
    "The split on PctKids2Par makes sense because the families prefer to choose to live in localities with low crime.\n",
    "The split on PctEmploy makes sense because the employment tends to reduce crime rate.\n",
    "The split on PctLess9thGrade makes sense because of lack of education people might be forced into commiting crime."
   ]
  },
  {
   "cell_type": "markdown",
   "metadata": {},
   "source": [
    "### c.\tNow apply cross-validation (cross_val_score) to do 10-fold cross-validation to estimate the out-of-training accuracy of decision tree learning for this task."
   ]
  },
  {
   "cell_type": "markdown",
   "metadata": {},
   "source": [
    "#### i.\tWhat are the 10-fold cross-validation accuracy, precision, and recall?"
   ]
  },
  {
   "cell_type": "code",
   "execution_count": 114,
   "metadata": {},
   "outputs": [
    {
     "name": "stdout",
     "output_type": "stream",
     "text": [
      "The 10 Fold accuracy of the decision tree classifier is:\n",
      "[ 0.81094527  0.755       0.75        0.75879397  0.70351759  0.74874372\n",
      "  0.81407035  0.74874372  0.72864322  0.73366834] \n",
      "And their mean is:\n",
      "  0.755212617815\n",
      "\n",
      "The 10 Fold precision of the decision tree classifier is:\n",
      "[ 0.83606557  0.83050847  0.78151261  0.81102362  0.79661017  0.82926829\n",
      "  0.8442623   0.81896552  0.79487179  0.79674797] \n",
      "And their mean is:\n",
      "  0.813983631229\n",
      "\n",
      "The 10 Fold recall of the decision tree classifier is:\n",
      " [ 0.84126984  0.808       0.768       0.792       0.776       0.792       0.848\n",
      "  0.8         0.792       0.776     ] \n",
      "And their mean is:\n",
      "  0.799326984127\n"
     ]
    }
   ],
   "source": [
    "# import random\n",
    "# random.seed(3213)\n",
    "decisionTree = tree.DecisionTreeClassifier()\n",
    "\n",
    "kFoldAccuracy = model_selection.cross_val_score(decisionTree, cleanDataDT[predictors], cleanDataDT[outcome], cv=10, scoring='accuracy')\n",
    "kFoldPrecision = model_selection.cross_val_score(decisionTree, cleanDataDT[predictors], cleanDataDT[outcome], cv=10, scoring='precision')\n",
    "kFoldRecall = model_selection.cross_val_score(decisionTree, cleanDataDT[predictors], cleanDataDT[outcome], cv=10, scoring='recall')\n",
    "\n",
    "\n",
    "print ('The 10 Fold accuracy of the decision tree classifier is:\\n%s \\nAnd their mean is:\\n '%(str(kFoldAccuracy)), np.mean(kFoldAccuracy))\n",
    "print ('\\nThe 10 Fold precision of the decision tree classifier is:\\n%s \\nAnd their mean is:\\n '%(str(kFoldPrecision)), np.mean(kFoldPrecision))\n",
    "print ('\\nThe 10 Fold recall of the decision tree classifier is:\\n %s \\nAnd their mean is:\\n '%(str(kFoldRecall)), np.mean(kFoldRecall))"
   ]
  },
  {
   "cell_type": "markdown",
   "metadata": {},
   "source": [
    "ii.\tWhy are they different from the results in the previous test?\n",
    "\n",
    "This difference in the results is because the variance of the resulting estimate is reduced as number of folds is increased and decrease in variance helps reduce overfitting."
   ]
  },
  {
   "cell_type": "markdown",
   "metadata": {
    "collapsed": true
   },
   "source": [
    "## 2.\tLinear Classification"
   ]
  },
  {
   "cell_type": "markdown",
   "metadata": {},
   "source": [
    "### a.\tUse GaussianNB to learn a Naive Bayes classifier to predict highCrime."
   ]
  },
  {
   "cell_type": "code",
   "execution_count": 115,
   "metadata": {
    "collapsed": true
   },
   "outputs": [],
   "source": [
    "cleanDataNB = cleanData.drop(['state','fold','communityname','ViolentCrimesPerPop'], axis=1)\n",
    "NB = GaussianNB()\n",
    "\n",
    "NB = NB.fit(cleanDataNB[predictors], cleanData[outcome])"
   ]
  },
  {
   "cell_type": "markdown",
   "metadata": {},
   "source": [
    "#### i.\tWhat is the 10-fold cross-validation accuracy, precision, and recall for this method?"
   ]
  },
  {
   "cell_type": "code",
   "execution_count": 116,
   "metadata": {
    "scrolled": true
   },
   "outputs": [
    {
     "name": "stdout",
     "output_type": "stream",
     "text": [
      "The 10 Fold accuracy of the naive baye's classifier is:\n",
      "[ 0.80099502  0.79        0.8         0.76884422  0.76884422  0.77386935\n",
      "  0.8040201   0.75376884  0.77889447  0.73366834] \n",
      "And their mean is:\n",
      "  0.777290457261\n",
      "\n",
      "The 10 Fold precision of the naive baye's classifier is:\n",
      "[ 0.93877551  0.8952381   0.95698925  0.8989899   0.94382022  0.92553191\n",
      "  0.97777778  0.93181818  0.92631579  0.90909091] \n",
      "And their mean is:\n",
      "  0.930434754952\n",
      "\n",
      "The 10 Fold recall of the naive baye's classifier is:\n",
      " [ 0.73015873  0.752       0.712       0.712       0.672       0.696       0.704\n",
      "  0.656       0.704       0.64      ] \n",
      "And their mean is:\n",
      "  0.697815873016\n"
     ]
    }
   ],
   "source": [
    "kFoldAccuracy = model_selection.cross_val_score(NB, cleanDataNB[predictors], cleanDataNB[outcome], cv=10, scoring='accuracy')\n",
    "kFoldPrecision = model_selection.cross_val_score(NB, cleanDataNB[predictors], cleanDataNB[outcome], cv=10, scoring='precision')\n",
    "kFoldRecall = model_selection.cross_val_score(NB, cleanDataNB[predictors], cleanDataNB[outcome], cv=10, scoring='recall')\n",
    "\n",
    "print ('The 10 Fold accuracy of the naive baye\\'s classifier is:\\n%s \\nAnd their mean is:\\n '%(str(kFoldAccuracy)), np.mean(kFoldAccuracy))\n",
    "print ('\\nThe 10 Fold precision of the naive baye\\'s classifier is:\\n%s \\nAnd their mean is:\\n '%(str(kFoldPrecision)), np.mean(kFoldPrecision))\n",
    "print ('\\nThe 10 Fold recall of the naive baye\\'s classifier is:\\n %s \\nAnd their mean is:\\n '%(str(kFoldRecall)), np.mean(kFoldRecall))"
   ]
  },
  {
   "cell_type": "markdown",
   "metadata": {},
   "source": [
    "#### ii.\tWhat are the 10 most predictive features? "
   ]
  },
  {
   "cell_type": "code",
   "execution_count": 117,
   "metadata": {},
   "outputs": [
    {
     "name": "stdout",
     "output_type": "stream",
     "text": [
      "Top 10 Naive Baye's features are:\n",
      "1: PctKids2Par\n",
      "2: FemalePctDiv\n",
      "3: PctFam2Par\n",
      "4: pctWInvInc\n",
      "5: TotalPctDiv\n",
      "6: PctTeen2Par\n",
      "7: MalePctDivorce\n",
      "8: PctYoungKids2Par\n",
      "9: PctIlleg\n",
      "10: racePctWhite\n"
     ]
    }
   ],
   "source": [
    "features = []\n",
    "for i in range(0,len(predictors)-1):\n",
    "    info = []\n",
    "    info.append(abs(NB.theta_[0, i] - NB.theta_[1, i])/(NB.sigma_[0, i] + NB.sigma_[1, i]))\n",
    "    info.append(predictors[i])\n",
    "    features.append(info)\n",
    "\n",
    "features.sort(reverse=True)\n",
    "\n",
    "topTenNBFeatures = features[:10]\n",
    "print(\"Top 10 Naive Baye's features are:\")\n",
    "index = 1\n",
    "for i in topTenNBFeatures:\n",
    "    print(str(index) + \": \" + i[1])\n",
    "    index = index + 1"
   ]
  },
  {
   "cell_type": "markdown",
   "metadata": {},
   "source": [
    "#### iii.\tHow do these results compare with your results from decision trees, above?\n",
    "\n",
    "Compared to Decision tree, Naive Bayes has different top ten most informative features except for PctKids2Par and racePctWhite."
   ]
  },
  {
   "cell_type": "markdown",
   "metadata": {},
   "source": [
    "### b.\tUse LinearSVC to learn a linear Support Vector Machine model to predict highCrime."
   ]
  },
  {
   "cell_type": "code",
   "execution_count": 118,
   "metadata": {
    "collapsed": true
   },
   "outputs": [],
   "source": [
    "cleanDataSVC = cleanData.drop(['state','fold','communityname','ViolentCrimesPerPop'], axis=1)\n",
    "SVC = LinearSVC()\n",
    "\n",
    "SVC = SVC.fit(cleanDataSVC[predictors], cleanData[outcome])"
   ]
  },
  {
   "cell_type": "markdown",
   "metadata": {},
   "source": [
    "#### i.\t What is the 10-fold cross-validation accuracy, precision, and recall for this method?"
   ]
  },
  {
   "cell_type": "code",
   "execution_count": 119,
   "metadata": {},
   "outputs": [
    {
     "name": "stdout",
     "output_type": "stream",
     "text": [
      "The 10 Fold accuracy of the Linear SVC classifier is:\n",
      "[ 0.85572139  0.815       0.825       0.83417085  0.8241206   0.80904523\n",
      "  0.86432161  0.83417085  0.8040201   0.83417085] \n",
      "And their mean is:\n",
      "  0.829974149354\n",
      "\n",
      "The 10 Fold precision of the Linear SVC classifier is:\n",
      "[ 0.90082645  0.83846154  0.86290323  0.86507937  0.875       0.85365854\n",
      "  0.88888889  0.88983051  0.84126984  0.86507937] \n",
      "And their mean is:\n",
      "  0.868099771593\n",
      "\n",
      "The 10 Fold recall of the Linear SVC classifier is:\n",
      " [ 0.86507937  0.872       0.856       0.872       0.84        0.84        0.896\n",
      "  0.84        0.848       0.872     ] \n",
      "And their mean is:\n",
      "  0.860107936508\n"
     ]
    }
   ],
   "source": [
    "kFoldAccuracy = model_selection.cross_val_score(SVC, cleanDataSVC[predictors], cleanDataSVC[outcome], cv=10, scoring='accuracy')\n",
    "kFoldPrecision = model_selection.cross_val_score(SVC, cleanDataSVC[predictors], cleanDataSVC[outcome], cv=10, scoring='precision')\n",
    "kFoldRecall = model_selection.cross_val_score(SVC, cleanDataSVC[predictors], cleanDataSVC[outcome], cv=10, scoring='recall')\n",
    "\n",
    "print ('The 10 Fold accuracy of the Linear SVC classifier is:\\n%s \\nAnd their mean is:\\n '%(str(kFoldAccuracy)), np.mean(kFoldAccuracy))\n",
    "print ('\\nThe 10 Fold precision of the Linear SVC classifier is:\\n%s \\nAnd their mean is:\\n '%(str(kFoldPrecision)), np.mean(kFoldPrecision))\n",
    "print ('\\nThe 10 Fold recall of the Linear SVC classifier is:\\n %s \\nAnd their mean is:\\n '%(str(kFoldRecall)), np.mean(kFoldRecall))"
   ]
  },
  {
   "cell_type": "markdown",
   "metadata": {
    "collapsed": true
   },
   "source": [
    "#### ii.\tWhat are the 10 most predictive features?"
   ]
  },
  {
   "cell_type": "code",
   "execution_count": 120,
   "metadata": {},
   "outputs": [
    {
     "name": "stdout",
     "output_type": "stream",
     "text": [
      "Top 10 SVC features are:\n",
      "1: pctWInvInc\n",
      "2: PersPerOccupHous\n",
      "3: racePctWhite\n",
      "4: PctKids2Par\n",
      "5: RentHighQ\n",
      "6: MalePctDivorce\n",
      "7: NumUnderPov\n",
      "8: NumStreet\n",
      "9: PctOccupMgmtProf\n",
      "10: population\n"
     ]
    }
   ],
   "source": [
    "features = []\n",
    "for i in range(0,len(predictors)-1):\n",
    "    info = []\n",
    "    info.append(abs(SVC.coef_[0][i]))\n",
    "    info.append(predictors[i])\n",
    "    features.append(info)\n",
    "\n",
    "features.sort(reverse=True)\n",
    "topTenSVCFeatures = features[:10]\n",
    "print(\"Top 10 SVC features are:\")\n",
    "index = 1\n",
    "for i in topTenSVCFeatures:\n",
    "    print(str(index) + \": \" + i[1])\n",
    "    index = index + 1\n"
   ]
  },
  {
   "cell_type": "markdown",
   "metadata": {},
   "source": [
    "The split on PctKids2Par makes sense because the families prefer to choose to live in localities with low crime.\n",
    "The split on PctEmploy makes sense because the employment tends to reduce crime rate.\n",
    "The split on PctLess9thGrade makes sense because of lack of education people might be forced into commiting crime."
   ]
  },
  {
   "cell_type": "markdown",
   "metadata": {},
   "source": [
    "#### iii.\tHow do these results compare with your results from decision trees, above?"
   ]
  },
  {
   "cell_type": "markdown",
   "metadata": {},
   "source": [
    "Compared to Decision tree, Linear SVC has top ten new most informative features except for PctKids2Par and racePctWhite."
   ]
  },
  {
   "cell_type": "markdown",
   "metadata": {},
   "source": [
    "## 3.\tRegression"
   ]
  },
  {
   "cell_type": "markdown",
   "metadata": {},
   "source": [
    "### a.\tUse LinearRegression to learn a linear model directly predicting the crime rate per capita (ViolentCrimesPerPop)."
   ]
  },
  {
   "cell_type": "code",
   "execution_count": 121,
   "metadata": {
    "collapsed": true
   },
   "outputs": [],
   "source": [
    "outcome = 'ViolentCrimesPerPop'\n",
    "cleanDataLR = cleanData.drop(['state','fold','communityname','highCrime'], axis=1)\n",
    "predictors = list(cleanDataLR)\n",
    "predictors.remove(outcome)\n",
    "\n",
    "LR = LinearRegression()\n",
    "\n",
    "LR = LR.fit(cleanDataLR[predictors], cleanData[outcome])"
   ]
  },
  {
   "cell_type": "markdown",
   "metadata": {},
   "source": [
    "#### i.\tUsing 10-fold cross-validation, what is the estimated mean-squared-error (MSE) of the model?"
   ]
  },
  {
   "cell_type": "code",
   "execution_count": 122,
   "metadata": {},
   "outputs": [
    {
     "name": "stdout",
     "output_type": "stream",
     "text": [
      "The 10 Fold mean squared error of the Linear regression is:\n",
      "[ 0.02164175  0.01853214  0.02612987  0.01974299  0.0174234   0.01538316\n",
      "  0.01614152  0.01534365  0.01691999  0.01845021] \n",
      "And their mean is:\n",
      "  0.0185708681157\n"
     ]
    }
   ],
   "source": [
    "kFoldMSE = model_selection.cross_val_score(LR, cleanDataLR[predictors], cleanDataLR[outcome], cv=10, scoring='neg_mean_squared_error')\n",
    "\n",
    "print ('The 10 Fold mean squared error of the Linear regression is:\\n%s \\nAnd their mean is:\\n '%(str(abs(kFoldMSE))), abs(np.mean(kFoldMSE)))"
   ]
  },
  {
   "cell_type": "markdown",
   "metadata": {},
   "source": [
    "#### ii.\tWhat is the MSE on the training set (train on all the data then test on it all)?"
   ]
  },
  {
   "cell_type": "code",
   "execution_count": 123,
   "metadata": {},
   "outputs": [
    {
     "name": "stdout",
     "output_type": "stream",
     "text": [
      "MSE : 1.656%\n"
     ]
    }
   ],
   "source": [
    "prediction = LR.predict(cleanDataLR[predictors])\n",
    "mse = metrics.mean_squared_error(prediction,cleanDataLR[outcome])\n",
    "print ('MSE : %s' % '{0:.3%}'.format(mse))   "
   ]
  },
  {
   "cell_type": "markdown",
   "metadata": {},
   "source": [
    "#### iii.\tWhat features are most predictive of a high crime rate? A low crime rate?"
   ]
  },
  {
   "cell_type": "code",
   "execution_count": 124,
   "metadata": {
    "scrolled": false
   },
   "outputs": [
    {
     "name": "stdout",
     "output_type": "stream",
     "text": [
      "High crime features: \n",
      "1: PersPerOccupHous\n",
      "2: PctHousOwnOcc\n",
      "3: MalePctDivorce\n",
      "4: PctRecImmig8\n",
      "5: MedRent\n",
      "6: medFamInc\n",
      "7: PctEmploy\n",
      "8: MalePctNevMarr\n",
      "9: PctPersDenseHous\n",
      "10: OwnOccMedVal\n",
      "\n",
      "Low crime features: \n",
      "1: PctPersOwnOccup\n",
      "2: TotalPctDiv\n",
      "3: whitePerCap\n",
      "4: PctKids2Par\n",
      "5: OwnOccLowQuart\n",
      "6: numbUrban\n",
      "7: PersPerRentOccHous\n",
      "8: RentLowQ\n",
      "9: agePct12t29\n",
      "10: PctRecImmig5\n"
     ]
    }
   ],
   "source": [
    "highCrimeFeatures = []\n",
    "lowCrimeFeatures = []\n",
    "for i in range(0,len(predictors)-1):\n",
    "    info = []\n",
    "    info.append(abs(LR.coef_[i]))\n",
    "    info.append(predictors[i])\n",
    "    if(LR.coef_[i] > 0):\n",
    "        highCrimeFeatures.append(info)\n",
    "    else:\n",
    "        lowCrimeFeatures.append(info)\n",
    "\n",
    "highCrimeFeatures.sort(reverse=True)\n",
    "topTenHighCrimeFeatures = highCrimeFeatures[:10]\n",
    "lowCrimeFeatures.sort(reverse=True)\n",
    "topTenLowCrimeFeatures = lowCrimeFeatures[:10]\n",
    "print(\"High crime features: \")\n",
    "index = 1\n",
    "for i in topTenHighCrimeFeatures:\n",
    "    print(str(index) + \": \" + i[1])\n",
    "    index = index + 1\n",
    "\n",
    "print(\"\\nLow crime features: \")\n",
    "index = 1\n",
    "for i in topTenLowCrimeFeatures:\n",
    "    print(str(index) + \": \" + i[1])\n",
    "    index = index + 1"
   ]
  },
  {
   "cell_type": "markdown",
   "metadata": {},
   "source": [
    "### b.\tNow use Ridge regression to reduce the amount of overfitting, using RidgeCV to pick the best alpha from among (10, 1, 0.1, 0.01, and 0.001)."
   ]
  },
  {
   "cell_type": "code",
   "execution_count": 125,
   "metadata": {},
   "outputs": [
    {
     "name": "stdout",
     "output_type": "stream",
     "text": [
      "Using ridgeCV we determined the best alpha to be : 1.0\n"
     ]
    }
   ],
   "source": [
    "cleanDataRidge = cleanData.drop(['state','communityname','highCrime','fold'], axis=1)\n",
    "#print(cleanDataRidge)\n",
    "alpha = np.array([10,1,0.1,0.01,0.001])\n",
    "\n",
    "ridgeCV = RidgeCV(alpha, cv=10)\n",
    "#print(ridgeCV)\n",
    "ridgeCV = ridgeCV.fit(cleanDataRidge[predictors], cleanData[outcome])\n",
    "prediction = ridgeCV.predict(cleanDataRidge[predictors])\n",
    "alpha= ridgeCV.alpha_\n",
    "print(\"Using ridgeCV we determined the best alpha to be :\",alpha)"
   ]
  },
  {
   "cell_type": "markdown",
   "metadata": {},
   "source": [
    "#### i.\tWhat is the estimated MSE of the model under 10-fold CV?"
   ]
  },
  {
   "cell_type": "code",
   "execution_count": 126,
   "metadata": {},
   "outputs": [
    {
     "name": "stdout",
     "output_type": "stream",
     "text": [
      "The 10 Fold mean squared error of the Ridge is:\n",
      "[ 0.02150699  0.01838653  0.02555132  0.01953837  0.01730767  0.01454866\n",
      "  0.01619059  0.01557036  0.01663208  0.01792579] \n",
      "And their mean is:\n",
      "  0.0183158369331\n"
     ]
    }
   ],
   "source": [
    "ridge = Ridge(alpha)\n",
    "ridge.fit(cleanDataRidge[predictors], cleanData[outcome])\n",
    "prediction2 = ridge.predict(cleanDataRidge[predictors])\n",
    "\n",
    "kFoldMSE = model_selection.cross_val_score(ridge, cleanDataRidge[predictors], cleanDataRidge[outcome], cv=10, scoring='neg_mean_squared_error')\n",
    "print ('The 10 Fold mean squared error of the Ridge is:\\n%s \\nAnd their mean is:\\n '%(str(abs(kFoldMSE))), abs(np.mean(kFoldMSE)))"
   ]
  },
  {
   "cell_type": "markdown",
   "metadata": {},
   "source": [
    "#### ii.\tWhat is the MSE on the training set (train on all the data then test on it all)?"
   ]
  },
  {
   "cell_type": "code",
   "execution_count": 127,
   "metadata": {},
   "outputs": [
    {
     "name": "stdout",
     "output_type": "stream",
     "text": [
      "MSE : 1.681%\n"
     ]
    }
   ],
   "source": [
    "prediction = ridge.predict(cleanDataRidge[predictors])\n",
    "mse = metrics.mean_squared_error(prediction,cleanDataRidge[outcome])\n",
    "print ('MSE : %s' % '{0:.3%}'.format(mse)) "
   ]
  },
  {
   "cell_type": "markdown",
   "metadata": {},
   "source": [
    "#### iii.\tWhat is the best alpha?"
   ]
  },
  {
   "cell_type": "code",
   "execution_count": 128,
   "metadata": {},
   "outputs": [
    {
     "name": "stdout",
     "output_type": "stream",
     "text": [
      "Best alpha is: 1.0\n"
     ]
    }
   ],
   "source": [
    "print(\"Best alpha is: \" + str(alpha))"
   ]
  },
  {
   "cell_type": "markdown",
   "metadata": {},
   "source": [
    "#### iv.\tWhat does this say about the amount of overfitting in linear regression for this problem?\n",
    "\n",
    "As the best alpha is really low this implies that the penalty for features is low therefore this should lead to lower overfitting in the model."
   ]
  },
  {
   "cell_type": "markdown",
   "metadata": {},
   "source": [
    "### c.\tNow use polynomial features to do quadratic (second-order) polynomial regression."
   ]
  },
  {
   "cell_type": "code",
   "execution_count": 129,
   "metadata": {},
   "outputs": [
    {
     "name": "stdout",
     "output_type": "stream",
     "text": [
      "The shape of second order dataset is:  (1994, 5253)\n"
     ]
    }
   ],
   "source": [
    "outcome = 'ViolentCrimesPerPop'\n",
    "cleanDataPoly = cleanData.drop(['state','communityname','highCrime','fold'], axis=1)\n",
    "poly = PolynomialFeatures(degree=2)\n",
    "polyFeatures = poly.fit_transform(cleanDataPoly)\n",
    "print(\"The shape of second order dataset is: \" ,polyFeatures.shape)\n",
    "polyLR = LinearRegression()\n"
   ]
  },
  {
   "cell_type": "markdown",
   "metadata": {},
   "source": [
    "#### i.\tWhat is the estimated MSE of the model under 10-fold CV?"
   ]
  },
  {
   "cell_type": "code",
   "execution_count": 130,
   "metadata": {},
   "outputs": [
    {
     "name": "stdout",
     "output_type": "stream",
     "text": [
      "The 10 Fold mean squared error of the Ridge is:\n",
      "[  1.61193243e-05   2.41294145e-05   1.77612871e-05   1.52582332e-05\n",
      "   1.51364037e-05   2.83004185e-05   2.24681664e-05   1.62962803e-05\n",
      "   1.86661833e-05   1.24359614e-05] \n",
      "And their mean is:\n",
      "  1.86571672512e-05\n"
     ]
    }
   ],
   "source": [
    "\n",
    "kFoldMSE = model_selection.cross_val_score(polyLR, polyFeatures, cleanDataPoly[outcome], cv=10, scoring='neg_mean_squared_error')\n",
    "\n",
    "print ('The 10 Fold mean squared error of the Ridge is:\\n%s \\nAnd their mean is:\\n '%(str(abs(kFoldMSE))), abs(np.mean(kFoldMSE)))\n"
   ]
  },
  {
   "cell_type": "markdown",
   "metadata": {},
   "source": [
    "#### ii.\tWhat is the MSE on the training set (train on all the data then test on it all)?"
   ]
  },
  {
   "cell_type": "code",
   "execution_count": 131,
   "metadata": {},
   "outputs": [
    {
     "name": "stdout",
     "output_type": "stream",
     "text": [
      "MSE : 0.000%\n"
     ]
    }
   ],
   "source": [
    "polyLR = polyLR.fit(polyFeatures, cleanData[outcome])\n",
    "\n",
    "prediction = polyLR.predict(polyFeatures)\n",
    "mse = metrics.mean_squared_error(prediction,cleanDataPoly[outcome])\n",
    "print ('MSE : %s' % '{0:.3%}'.format(mse)) "
   ]
  },
  {
   "cell_type": "markdown",
   "metadata": {},
   "source": [
    "#### iii.\tDoes this mean the quadratic model is better than the linear model for this problem?\n",
    "\n",
    "From the above two outcomes we can see that the MSE is very low for quadratic model, therefore it is a better model than the linear models."
   ]
  },
  {
   "cell_type": "markdown",
   "metadata": {},
   "source": [
    "## 4.\tDirty Data"
   ]
  },
  {
   "cell_type": "markdown",
   "metadata": {},
   "source": [
    "### a.\tCreate a new field “highCrime” which is true if the crime rate per capita (ViolentCrimesPerPop) is greater than 0.1, and false otherwise. What are the percentage of positive and negative instances in the dataset?"
   ]
  },
  {
   "cell_type": "code",
   "execution_count": 132,
   "metadata": {},
   "outputs": [
    {
     "name": "stdout",
     "output_type": "stream",
     "text": [
      "Percent of positive instance: 62.7382146439\n",
      "Percent of negative instance: 37.2617853561\n"
     ]
    }
   ],
   "source": [
    "dirtyData = pd.read_csv(\"communities-crime-full.csv\",na_values='?')\n",
    "dirtyData.fillna(dirtyData.mean(),inplace=True)\n",
    "dirtyData = dirtyData.drop(['county','fold','state','community','communityname'], axis=1)\n",
    "\n",
    "dirtyData['highCrime'] = 0\n",
    "condition = dirtyData['ViolentCrimesPerPop'] > 0.1\n",
    "dirtyData.loc[condition, 'highCrime'] = 1\n",
    "\n",
    "PercentageOfHighCrime = dirtyData['highCrime'].value_counts()/dirtyData['highCrime'].count()*100\n",
    "percentPositiveInstance = PercentageOfHighCrime[1]\n",
    "percentNegativeInstance = PercentageOfHighCrime[0]\n",
    "print('Percent of positive instance: ' + str(percentPositiveInstance))\n",
    "print('Percent of negative instance: ' + str(percentNegativeInstance))"
   ]
  },
  {
   "cell_type": "markdown",
   "metadata": {},
   "source": [
    "### b.\t Use DecisionTreeClassifier to learn a decision tree to predict highCrime on the entire dataset\n",
    "\n",
    "We tried this in 3 ways with :<ul><li> same Training and Testing Data\n",
    "                              <li> pruning trees to max level 3 and, \n",
    "                              <li> 80:20 Train data : Test data split"
   ]
  },
  {
   "cell_type": "markdown",
   "metadata": {},
   "source": [
    "#### i.\tWhat are the training accuracy, precision, and recall for this tree? "
   ]
  },
  {
   "cell_type": "code",
   "execution_count": 133,
   "metadata": {},
   "outputs": [
    {
     "name": "stdout",
     "output_type": "stream",
     "text": [
      "Accuracy : 100.000%\n",
      "Precision : 100.000%\n",
      "Recall : 100.000%\n"
     ]
    }
   ],
   "source": [
    "dirtyDataDT = dirtyData.drop(['ViolentCrimesPerPop'], axis=1)\n",
    "outcome = 'highCrime'\n",
    "predictors = list(dirtyDataDT)\n",
    "predictors.remove(outcome)\n",
    "\n",
    "decisionTree = tree.DecisionTreeClassifier()\n",
    "decisionTree = decisionTree.fit(dirtyDataDT[predictors], dirtyData[outcome])\n",
    "prediction = decisionTree.predict(dirtyDataDT[predictors])\n",
    "accuracy = metrics.accuracy_score(prediction,dirtyDataDT[outcome])\n",
    "print ('Accuracy : %s' % '{0:.3%}'.format(accuracy))   \n",
    "    \n",
    "precision = metrics.precision_score(prediction,dirtyDataDT[outcome])\n",
    "print ('Precision : %s' % '{0:.3%}'.format(precision))   \n",
    "\n",
    "recall = metrics.recall_score(prediction,dirtyDataDT[outcome])\n",
    "print ('Recall : %s' % '{0:.3%}'.format(recall))"
   ]
  },
  {
   "cell_type": "code",
   "execution_count": 134,
   "metadata": {},
   "outputs": [
    {
     "name": "stdout",
     "output_type": "stream",
     "text": [
      "Accuracy : 83.601%\n",
      "Precision : 83.054%\n",
      "Recall : 90.035%\n"
     ]
    }
   ],
   "source": [
    "dirtyDataDT = dirtyData.drop(['ViolentCrimesPerPop'], axis=1)\n",
    "outcome = 'highCrime'\n",
    "predictors = list(dirtyDataDT)\n",
    "predictors.remove(outcome)\n",
    "\n",
    "decisionTree = tree.DecisionTreeClassifier(max_depth=3)\n",
    "decisionTree = decisionTree.fit(dirtyDataDT[predictors], dirtyData[outcome])\n",
    "prediction = decisionTree.predict(dirtyDataDT[predictors])\n",
    "accuracy = metrics.accuracy_score(prediction,dirtyDataDT[outcome])\n",
    "print ('Accuracy : %s' % '{0:.3%}'.format(accuracy))   \n",
    "    \n",
    "precision = metrics.precision_score(prediction,dirtyDataDT[outcome])\n",
    "print ('Precision : %s' % '{0:.3%}'.format(precision))   \n",
    "\n",
    "recall = metrics.recall_score(prediction,dirtyDataDT[outcome])\n",
    "print ('Recall : %s' % '{0:.3%}'.format(recall))"
   ]
  },
  {
   "cell_type": "code",
   "execution_count": 135,
   "metadata": {},
   "outputs": [
    {
     "name": "stdout",
     "output_type": "stream",
     "text": [
      "For data split in 80 train - 20 test\n",
      "Accuracy : 83.459%\n",
      "Precision : 88.462%\n",
      "Recall : 86.466%\n"
     ]
    }
   ],
   "source": [
    "train, test = np.split(dirtyDataDT.sample(frac=1), [ int(.8*len(dirtyDataDT))])\n",
    "decisionTree2 = decisionTree.fit(train[predictors], train[outcome])\n",
    "\n",
    "print(\"For data split in 80 train - 20 test\")\n",
    "prediction = decisionTree2.predict(test[predictors])\n",
    "accuracy = metrics.accuracy_score(prediction,test[outcome])\n",
    "print ('Accuracy : %s' % '{0:.3%}'.format(accuracy))   \n",
    "    \n",
    "precision = metrics.precision_score(prediction,test[outcome])\n",
    "print ('Precision : %s' % '{0:.3%}'.format(precision))   \n",
    "\n",
    "recall = metrics.recall_score(prediction,test[outcome])\n",
    "print ('Recall : %s' % '{0:.3%}'.format(recall))"
   ]
  },
  {
   "cell_type": "markdown",
   "metadata": {},
   "source": [
    "#### ii.\tWhat are the main features used for classification? Can you explain why they make sense (or not)?"
   ]
  },
  {
   "cell_type": "code",
   "execution_count": 136,
   "metadata": {},
   "outputs": [
    {
     "name": "stdout",
     "output_type": "stream",
     "text": [
      "The Top 10 features selected by decision tree are: \n"
     ]
    },
    {
     "data": {
      "text/html": [
       "<div>\n",
       "<table border=\"1\" class=\"dataframe\">\n",
       "  <thead>\n",
       "    <tr style=\"text-align: right;\">\n",
       "      <th></th>\n",
       "      <th>featureName</th>\n",
       "      <th>infoGain</th>\n",
       "    </tr>\n",
       "  </thead>\n",
       "  <tbody>\n",
       "    <tr>\n",
       "      <th>44</th>\n",
       "      <td>PctKids2Par</td>\n",
       "      <td>0.758619</td>\n",
       "    </tr>\n",
       "    <tr>\n",
       "      <th>3</th>\n",
       "      <td>racePctWhite</td>\n",
       "      <td>0.161143</td>\n",
       "    </tr>\n",
       "    <tr>\n",
       "      <th>5</th>\n",
       "      <td>racePctHisp</td>\n",
       "      <td>0.040541</td>\n",
       "    </tr>\n",
       "    <tr>\n",
       "      <th>51</th>\n",
       "      <td>NumImmig</td>\n",
       "      <td>0.020621</td>\n",
       "    </tr>\n",
       "    <tr>\n",
       "      <th>71</th>\n",
       "      <td>HousVacant</td>\n",
       "      <td>0.019077</td>\n",
       "    </tr>\n",
       "    <tr>\n",
       "      <th>0</th>\n",
       "      <td>population</td>\n",
       "      <td>0.000000</td>\n",
       "    </tr>\n",
       "    <tr>\n",
       "      <th>80</th>\n",
       "      <td>OwnOccMedVal</td>\n",
       "      <td>0.000000</td>\n",
       "    </tr>\n",
       "    <tr>\n",
       "      <th>81</th>\n",
       "      <td>OwnOccHiQuart</td>\n",
       "      <td>0.000000</td>\n",
       "    </tr>\n",
       "    <tr>\n",
       "      <th>82</th>\n",
       "      <td>RentLowQ</td>\n",
       "      <td>0.000000</td>\n",
       "    </tr>\n",
       "    <tr>\n",
       "      <th>83</th>\n",
       "      <td>RentMedian</td>\n",
       "      <td>0.000000</td>\n",
       "    </tr>\n",
       "  </tbody>\n",
       "</table>\n",
       "</div>"
      ],
      "text/plain": [
       "      featureName  infoGain\n",
       "44    PctKids2Par  0.758619\n",
       "3    racePctWhite  0.161143\n",
       "5     racePctHisp  0.040541\n",
       "51       NumImmig  0.020621\n",
       "71     HousVacant  0.019077\n",
       "0      population  0.000000\n",
       "80   OwnOccMedVal  0.000000\n",
       "81  OwnOccHiQuart  0.000000\n",
       "82       RentLowQ  0.000000\n",
       "83     RentMedian  0.000000"
      ]
     },
     "execution_count": 136,
     "metadata": {},
     "output_type": "execute_result"
    }
   ],
   "source": [
    "# Get the best features\n",
    "impFeatureDf = pd.DataFrame(columns=['featureName','infoGain'])\n",
    "feature = np.array(dirtyDataDT.columns)\n",
    "impFeatureDf['featureName'] = np.array(dirtyDataDT[predictors].columns)\n",
    "impFeatureDf['infoGain'] = decisionTree.feature_importances_\n",
    "print ('The Top 10 features selected by decision tree are: ')\n",
    "impFeatureDf.sort_values('infoGain', ascending=False).head(10)"
   ]
  },
  {
   "cell_type": "markdown",
   "metadata": {},
   "source": [
    "The split on PctKids2Par makes sense because the families prefer to choose to live in localities with low crime.\n",
    "The split on PctEmploy makes sense because the employment tends to reduce crime rate.\n",
    "The split on PctLess9thGrade makes sense because of lack of education people might be forced into commiting crime."
   ]
  },
  {
   "cell_type": "markdown",
   "metadata": {},
   "source": [
    "### c.\tNow apply cross-validation (cross_val_score) to do 10-fold cross-validation to estimate the out-of-training accuracy of decision tree learning for this task."
   ]
  },
  {
   "cell_type": "markdown",
   "metadata": {},
   "source": [
    "#### i.\tWhat are the 10-fold cross-validation accuracy, precision, and recall?"
   ]
  },
  {
   "cell_type": "code",
   "execution_count": 137,
   "metadata": {},
   "outputs": [
    {
     "name": "stdout",
     "output_type": "stream",
     "text": [
      "The 10 Fold accuracy of the decision tree classifier is:\n",
      "[ 0.81094527  0.81        0.805       0.79899497  0.82914573  0.77386935\n",
      "  0.85427136  0.83417085  0.80904523  0.8040201 ] \n",
      "And their mean is:\n",
      "  0.812946286157\n",
      "\n",
      "The 10 Fold precision of the decision tree classifier is:\n",
      "[ 0.90740741  0.85365854  0.84677419  0.84        0.85826772  0.85714286\n",
      "  0.92105263  0.92592593  0.85950413  0.90566038] \n",
      "And their mean is:\n",
      "  0.877539377831\n",
      "\n",
      "The 10 Fold recall of the decision tree classifier is:\n",
      " [ 0.77777778  0.84        0.84        0.84        0.872       0.768       0.84\n",
      "  0.8         0.832       0.768     ] \n",
      "And their mean is:\n",
      "  0.817777777778\n"
     ]
    }
   ],
   "source": [
    "kFoldAccuracy = model_selection.cross_val_score(decisionTree2, dirtyDataDT[predictors], dirtyDataDT[outcome], cv=10, scoring='accuracy')\n",
    "kFoldPrecision = model_selection.cross_val_score(decisionTree2, dirtyDataDT[predictors], dirtyDataDT[outcome], cv=10, scoring='precision')\n",
    "kFoldRecall = model_selection.cross_val_score(decisionTree2, dirtyDataDT[predictors], dirtyDataDT[outcome], cv=10, scoring='recall')\n",
    "\n",
    "print ('The 10 Fold accuracy of the decision tree classifier is:\\n%s \\nAnd their mean is:\\n '%(str(kFoldAccuracy)), np.mean(kFoldAccuracy))\n",
    "print ('\\nThe 10 Fold precision of the decision tree classifier is:\\n%s \\nAnd their mean is:\\n '%(str(kFoldPrecision)), np.mean(kFoldPrecision))\n",
    "print ('\\nThe 10 Fold recall of the decision tree classifier is:\\n %s \\nAnd their mean is:\\n '%(str(kFoldRecall)), np.mean(kFoldRecall))"
   ]
  },
  {
   "cell_type": "markdown",
   "metadata": {},
   "source": [
    "#### ii.\tWhy are they different from the results in the previous test?"
   ]
  },
  {
   "cell_type": "markdown",
   "metadata": {},
   "source": [
    "The results are different than the previous models because in the first case we were training and testing on the same data set hence seeing 100% accuracy. With the other two scenarios\n",
    "\n",
    "This difference is because the variance of the resulting estimate is reduced as number of folds is increased and decrease in variance helps reduce overfitting."
   ]
  },
  {
   "cell_type": "markdown",
   "metadata": {},
   "source": [
    "## 5.\tTeams "
   ]
  },
  {
   "cell_type": "markdown",
   "metadata": {},
   "source": [
    "### a.\tIf you are working in a team of two people:"
   ]
  },
  {
   "cell_type": "markdown",
   "metadata": {},
   "source": [
    "#### i.\tExperiment with two learning methods other than those described above (one can be a non-linear kernel for SVM) for the classification problem, explaining clearly what you did. Show CV results for both the clean and full datasets."
   ]
  },
  {
   "cell_type": "code",
   "execution_count": 138,
   "metadata": {},
   "outputs": [
    {
     "name": "stdout",
     "output_type": "stream",
     "text": [
      "The 10 Fold accuracy of the Logistic regression is:\n",
      "[ 0.84079602  0.83        0.845       0.82914573  0.8241206   0.83417085\n",
      "  0.85427136  0.83417085  0.79899497  0.81407035] \n",
      "And their mean is:\n",
      "  0.830474074352\n",
      "\n",
      "The 10 Fold precision of the Logistic regression classifier is:\n",
      "[ 0.8852459   0.85826772  0.87301587  0.85271318  0.86885246  0.85384615\n",
      "  0.89344262  0.88983051  0.84        0.84920635] \n",
      "And their mean is:\n",
      "  0.866442076298\n",
      "\n",
      "The 10 Fold recall of the Logistic regression classifier is:\n",
      " [ 0.85714286  0.872       0.88        0.88        0.848       0.888       0.872\n",
      "  0.84        0.84        0.856     ] \n",
      "And their mean is:\n",
      "  0.863314285714\n"
     ]
    }
   ],
   "source": [
    "#1 Logistic Regression with clean Data\n",
    "outcome = 'highCrime'\n",
    "cleanDataLogit = cleanData.drop(['state','fold','communityname','ViolentCrimesPerPop'], axis=1)\n",
    "predictors = list(cleanDataLogit)\n",
    "predictors.remove(outcome)\n",
    "\n",
    "logit = LogisticRegressionCV()\n",
    "\n",
    "logit = logit.fit(cleanDataLogit[predictors], cleanData[outcome])\n",
    "kFoldAccuracy = model_selection.cross_val_score(logit, cleanDataLogit[predictors], cleanDataLogit[outcome], cv=10, scoring='accuracy')\n",
    "kFoldPrecision = model_selection.cross_val_score(logit, cleanDataLogit[predictors], cleanDataLogit[outcome], cv=10, scoring='precision')\n",
    "kFoldRecall = model_selection.cross_val_score(logit, cleanDataLogit[predictors], cleanDataLogit[outcome], cv=10, scoring='recall')\n",
    "\n",
    "print ('The 10 Fold accuracy of the Logistic regression is:\\n%s \\nAnd their mean is:\\n '%(str(kFoldAccuracy)), np.mean(kFoldAccuracy))\n",
    "print ('\\nThe 10 Fold precision of the Logistic regression classifier is:\\n%s \\nAnd their mean is:\\n '%(str(kFoldPrecision)), np.mean(kFoldPrecision))\n",
    "print ('\\nThe 10 Fold recall of the Logistic regression classifier is:\\n %s \\nAnd their mean is:\\n '%(str(kFoldRecall)), np.mean(kFoldRecall))\n"
   ]
  },
  {
   "cell_type": "code",
   "execution_count": 139,
   "metadata": {},
   "outputs": [
    {
     "name": "stdout",
     "output_type": "stream",
     "text": [
      "The 10 Fold accuracy of the Logistic regression is:\n",
      "[ 0.84577114  0.83        0.845       0.83417085  0.8241206   0.83417085\n",
      "  0.84924623  0.83417085  0.79899497  0.83919598] \n",
      "And their mean is:\n",
      "  0.833484149604\n",
      "\n",
      "The 10 Fold precision of the Logistic regression classifier is:\n",
      "[ 0.88617886  0.85826772  0.87301587  0.859375    0.86885246  0.85384615\n",
      "  0.88617886  0.88983051  0.84        0.86046512] \n",
      "And their mean is:\n",
      "  0.867601055074\n",
      "\n",
      "The 10 Fold recall of the Logistic regression classifier is:\n",
      " [ 0.86507937  0.872       0.88        0.88        0.848       0.888       0.872\n",
      "  0.84        0.84        0.888     ] \n",
      "And their mean is:\n",
      "  0.867307936508\n"
     ]
    }
   ],
   "source": [
    "#2 Logistic Regression with full data\n",
    "outcome = 'highCrime'\n",
    "dirtyDataLogit = dirtyData.drop(['ViolentCrimesPerPop'], axis=1)\n",
    "predictors = list(dirtyDataLogit)\n",
    "predictors.remove(outcome)\n",
    "\n",
    "logit = LogisticRegressionCV()\n",
    "\n",
    "logit = logit.fit(dirtyDataLogit[predictors], dirtyData[outcome])\n",
    "kFoldAccuracy = model_selection.cross_val_score(logit, dirtyDataLogit[predictors], dirtyDataLogit[outcome], cv=10, scoring='accuracy')\n",
    "kFoldPrecision = model_selection.cross_val_score(logit, dirtyDataLogit[predictors], dirtyDataLogit[outcome], cv=10, scoring='precision')\n",
    "kFoldRecall = model_selection.cross_val_score(logit, dirtyDataLogit[predictors], dirtyDataLogit[outcome], cv=10, scoring='recall')\n",
    "\n",
    "print ('The 10 Fold accuracy of the Logistic regression is:\\n%s \\nAnd their mean is:\\n '%(str(kFoldAccuracy)), np.mean(kFoldAccuracy))\n",
    "print ('\\nThe 10 Fold precision of the Logistic regression classifier is:\\n%s \\nAnd their mean is:\\n '%(str(kFoldPrecision)), np.mean(kFoldPrecision))\n",
    "print ('\\nThe 10 Fold recall of the Logistic regression classifier is:\\n %s \\nAnd their mean is:\\n '%(str(kFoldRecall)), np.mean(kFoldRecall))\n"
   ]
  },
  {
   "cell_type": "code",
   "execution_count": 140,
   "metadata": {},
   "outputs": [
    {
     "name": "stdout",
     "output_type": "stream",
     "text": [
      "The 10 Fold accuracy of the Non Linear SVC classifier is:\n",
      "[ 0.8358209   0.83        0.835       0.8241206   0.83919598  0.8241206\n",
      "  0.8241206   0.83417085  0.80904523  0.83417085] \n",
      "And their mean is:\n",
      "  0.828976561914\n",
      "\n",
      "The 10 Fold precision of the Non Linear SVC classifier is:\n",
      "[ 0.86614173  0.85271318  0.85384615  0.8515625   0.8907563   0.84615385\n",
      "  0.86290323  0.90350877  0.848       0.85384615] \n",
      "And their mean is:\n",
      "  0.862943186468\n",
      "\n",
      "The 10 Fold recall of the Non Linear SVC classifier is:\n",
      " [ 0.87301587  0.88        0.888       0.872       0.848       0.88        0.856\n",
      "  0.824       0.848       0.888     ] \n",
      "And their mean is:\n",
      "  0.865701587302\n"
     ]
    }
   ],
   "source": [
    "#3 Non Linear SVM with clean data\n",
    "\n",
    "cleanDataNLsvc = cleanData.drop(['state','fold','communityname','ViolentCrimesPerPop'], axis=1)\n",
    "predictors = list(cleanDataNLsvc)\n",
    "predictors.remove(outcome)\n",
    "\n",
    "NLsvc= NuSVC()\n",
    "\n",
    "NLsvc = NLsvc.fit(cleanDataNLsvc[predictors], cleanData[outcome])\n",
    "kFoldAccuracy = model_selection.cross_val_score(NLsvc, cleanDataNLsvc[predictors], cleanDataNLsvc[outcome], cv=10, scoring='accuracy')\n",
    "kFoldPrecision = model_selection.cross_val_score(NLsvc, cleanDataNLsvc[predictors], cleanDataNLsvc[outcome], cv=10, scoring='precision')\n",
    "kFoldRecall = model_selection.cross_val_score(NLsvc, cleanDataNLsvc[predictors], cleanDataNLsvc[outcome], cv=10, scoring='recall')\n",
    "\n",
    "print ('The 10 Fold accuracy of the Non Linear SVC classifier is:\\n%s \\nAnd their mean is:\\n '%(str(kFoldAccuracy)), np.mean(kFoldAccuracy))\n",
    "print ('\\nThe 10 Fold precision of the Non Linear SVC classifier is:\\n%s \\nAnd their mean is:\\n '%(str(kFoldPrecision)), np.mean(kFoldPrecision))\n",
    "print ('\\nThe 10 Fold recall of the Non Linear SVC classifier is:\\n %s \\nAnd their mean is:\\n '%(str(kFoldRecall)), np.mean(kFoldRecall))"
   ]
  },
  {
   "cell_type": "code",
   "execution_count": 141,
   "metadata": {
    "scrolled": true
   },
   "outputs": [
    {
     "name": "stdout",
     "output_type": "stream",
     "text": [
      "The 10 Fold accuracy of the Non Linear SVC classifier is:\n",
      "[ 0.8358209   0.83        0.835       0.8241206   0.83919598  0.81909548\n",
      "  0.82914573  0.83417085  0.81407035  0.83919598] \n",
      "And their mean is:\n",
      "  0.82998158704\n",
      "\n",
      "The 10 Fold precision of the Non Linear SVC classifier is:\n",
      "[ 0.86614173  0.85271318  0.85384615  0.8515625   0.8907563   0.83969466\n",
      "  0.8699187   0.90350877  0.85483871  0.86046512] \n",
      "And their mean is:\n",
      "  0.864344582051\n",
      "\n",
      "The 10 Fold recall of the Non Linear SVC classifier is:\n",
      " [ 0.87301587  0.88        0.888       0.872       0.848       0.88        0.856\n",
      "  0.824       0.848       0.888     ] \n",
      "And their mean is:\n",
      "  0.865701587302\n"
     ]
    }
   ],
   "source": [
    "#4 Non Linear SVM with full data\n",
    "dirtyDataNLsvc = dirtyData.drop(['ViolentCrimesPerPop'], axis=1)\n",
    "predictors = list(dirtyDataLogit)\n",
    "predictors.remove(outcome)\n",
    "\n",
    "NLsvc= NuSVC()\n",
    "\n",
    "NLsvc = NLsvc.fit(dirtyDataNLsvc[predictors], dirtyData[outcome])\n",
    "kFoldAccuracy = model_selection.cross_val_score(NLsvc, dirtyDataNLsvc[predictors], dirtyDataNLsvc[outcome], cv=10, scoring='accuracy')\n",
    "kFoldPrecision = model_selection.cross_val_score(NLsvc, dirtyDataNLsvc[predictors], dirtyDataNLsvc[outcome], cv=10, scoring='precision')\n",
    "kFoldRecall = model_selection.cross_val_score(NLsvc, dirtyDataNLsvc[predictors], dirtyDataNLsvc[outcome], cv=10, scoring='recall')\n",
    "\n",
    "print ('The 10 Fold accuracy of the Non Linear SVC classifier is:\\n%s \\nAnd their mean is:\\n '%(str(kFoldAccuracy)), np.mean(kFoldAccuracy))\n",
    "print ('\\nThe 10 Fold precision of the Non Linear SVC classifier is:\\n%s \\nAnd their mean is:\\n '%(str(kFoldPrecision)), np.mean(kFoldPrecision))\n",
    "print ('\\nThe 10 Fold recall of the Non Linear SVC classifier is:\\n %s \\nAnd their mean is:\\n '%(str(kFoldRecall)), np.mean(kFoldRecall))"
   ]
  },
  {
   "cell_type": "markdown",
   "metadata": {},
   "source": [
    "#### ii.\tWhat method gives the best results?"
   ]
  },
  {
   "cell_type": "markdown",
   "metadata": {},
   "source": [
    "Logistic Regression has a better performance than Non Linear kernal of Support Vector Machine."
   ]
  },
  {
   "cell_type": "markdown",
   "metadata": {},
   "source": [
    "#### iii.\tWhat feature(s) seem to be most consistently predictive of high crime rates? How reliable is this conclusion?"
   ]
  },
  {
   "cell_type": "code",
   "execution_count": 142,
   "metadata": {},
   "outputs": [
    {
     "name": "stdout",
     "output_type": "stream",
     "text": [
      "High crime features: \n",
      "1: racepctblack\n",
      "2: MalePctDivorce\n",
      "3: PctIlleg\n",
      "4: TotalPctDiv\n",
      "5: racePctHisp\n",
      "6: FemalePctDiv\n",
      "7: PctPersDenseHous\n",
      "8: OtherPerCap\n",
      "9: HousVacant\n",
      "10: MedRentPctHousInc\n"
     ]
    }
   ],
   "source": [
    "highCrimeFeatures = []\n",
    "lowCrimeFeatures = []\n",
    "for i in range(0,len(predictors)-1):\n",
    "    info = []\n",
    "    info.append(abs(logit.coef_[0,i]))\n",
    "    info.append(predictors[i])\n",
    "    if(logit.coef_[0,i] > 0):\n",
    "        highCrimeFeatures.append(info)\n",
    "    else:\n",
    "        lowCrimeFeatures.append(info)\n",
    "\n",
    "highCrimeFeatures.sort(reverse=True)\n",
    "topTenHighCrimeFeatures = highCrimeFeatures[:10]\n",
    "\n",
    "print(\"High crime features: \")\n",
    "index = 1\n",
    "for i in topTenHighCrimeFeatures:\n",
    "    print(str(index) + \": \" + i[1])\n",
    "    index = index + 1\n"
   ]
  },
  {
   "cell_type": "markdown",
   "metadata": {},
   "source": [
    "The features involving divorce such as MalePctDivorce, FemalePctDiv and TotalPctDiv tend to repeat across all the models as an indicator of high crime. Also PctIlleg seems to be a good predictor of high crime. Features are not consistant across models hence are not very reliable."
   ]
  },
  {
   "cell_type": "markdown",
   "metadata": {},
   "source": [
    "# Extra Credit"
   ]
  },
  {
   "cell_type": "markdown",
   "metadata": {},
   "source": [
    "## Question 6"
   ]
  },
  {
   "attachments": {},
   "cell_type": "markdown",
   "metadata": {},
   "source": [
    "## Teams\n",
    "### a. Team of three people:\n",
    "\n",
    "#### ii.\tDevise a method to find the most useful threshold for dividing high crime areas from low crime areas (i.e., discretizing XXX to compute highCrime). Define clearly what you mean by “useful”."
   ]
  },
  {
   "cell_type": "code",
   "execution_count": 143,
   "metadata": {
    "collapsed": true
   },
   "outputs": [],
   "source": [
    "random.seed(123)\n",
    "cleanData = pd.read_csv(\"communities-crime-clean.csv\")\n",
    "threshold = np.arange(0,0.5,0.01)\n",
    "maxAccuracy = 0\n",
    "beatThreshold = 0\n",
    "maxAccuracy = []\n",
    "minMSE = []\n",
    "a = []\n",
    "for i in threshold:\n",
    "    cleanData['highCrime'] = 0\n",
    "    condition = cleanData['ViolentCrimesPerPop'] > i\n",
    "    cleanData.loc[condition, 'highCrime'] = 1\n",
    "    \n",
    "    cleanDataLogit = cleanData.drop(['fold','state','communityname','ViolentCrimesPerPop'], axis=1)\n",
    "    outcome = 'highCrime'\n",
    "    predictors = list(cleanDataLogit)\n",
    "    predictors.remove(outcome)\n",
    "\n",
    "    logit = LogisticRegressionCV()\n",
    "    \n",
    "    kFoldAccuracy = model_selection.cross_val_score(logit, cleanDataLogit[predictors], cleanDataLogit[outcome], cv=10, scoring='accuracy')\n",
    "    maxAccuracy.append(np.max(abs(kFoldAccuracy)))\n",
    "    a.append(i)\n",
    "    \n",
    "    kFoldMSE = model_selection.cross_val_score(logit, cleanDataLogit[predictors], cleanDataLogit[outcome], cv=10, scoring='neg_mean_squared_error')\n",
    "    minMSE.append(np.min(abs(kFoldMSE)))\n"
   ]
  },
  {
   "cell_type": "code",
   "execution_count": 144,
   "metadata": {},
   "outputs": [
    {
     "data": {
      "image/png": "[encoded data removed]",
      "text/plain": [
       "<matplotlib.figure.Figure at 0x115a478d0>"
      ]
     },
     "metadata": {},
     "output_type": "display_data"
    }
   ],
   "source": [
    "plt.plot(a,maxAccuracy)\n",
    "plt.axis([0,0.6,0.8,1])\n",
    "plt.show()"
   ]
  },
  {
   "cell_type": "code",
   "execution_count": 145,
   "metadata": {},
   "outputs": [
    {
     "data": {
      "image/png": "[encoded data removed]",
      "text/plain": [
       "<matplotlib.figure.Figure at 0x115a470f0>"
      ]
     },
     "metadata": {},
     "output_type": "display_data"
    }
   ],
   "source": [
    "plt.plot(a,minMSE)\n",
    "plt.axis([0,0.6,0,0.2])\n",
    "plt.show()"
   ]
  },
  {
   "cell_type": "code",
   "execution_count": 146,
   "metadata": {
    "collapsed": true
   },
   "outputs": [],
   "source": [
    "thresh = 0.09"
   ]
  },
  {
   "cell_type": "markdown",
   "metadata": {},
   "source": [
    "To determine the optimum threshold value we plotted the thresholds vs MSE and threshold vs Accuracy. We choose threshold as 0.09 as it minimises the mean squared error(MSE) and accuracy compared to the earlier threshold. We think 0.09 is the most useful threshold as it minimises MSE while correctly classifying the violent crimes."
   ]
  },
  {
   "cell_type": "markdown",
   "metadata": {},
   "source": [
    "#### iii.\tShow CV results for both the clean and full datasets for at least three different classification methods above.\n"
   ]
  },
  {
   "cell_type": "code",
   "execution_count": 147,
   "metadata": {},
   "outputs": [
    {
     "name": "stdout",
     "output_type": "stream",
     "text": [
      "The 10 Fold accuracy of the decision tree classifier is:\n",
      "[ 0.80099502  0.77        0.725       0.75879397  0.71859296  0.73869347\n",
      "  0.83919598  0.75376884  0.73366834  0.75376884] \n",
      "And their mean is:\n",
      "  0.759247743694\n",
      "\n",
      "The 10 Fold precision of the decision tree classifier is:\n",
      "[ 0.83739837  0.8015873   0.80165289  0.796875    0.792       0.81355932\n",
      "  0.86290323  0.82758621  0.78688525  0.77692308] \n",
      "And their mean is:\n",
      "  0.809737064569\n",
      "\n",
      "The 10 Fold recall of the decision tree classifier is:\n",
      " [ 0.81746032  0.808       0.76        0.84        0.752       0.768       0.848\n",
      "  0.776       0.776       0.808     ] \n",
      "And their mean is:\n",
      "  0.795346031746\n"
     ]
    }
   ],
   "source": [
    "cleanData = pd.read_csv(\"communities-crime-clean.csv\")\n",
    "cleanData['highCrime'] = 0\n",
    "condition = cleanData['ViolentCrimesPerPop'] > thresh\n",
    "cleanData.loc[condition, 'highCrime'] = 1\n",
    "\n",
    "cleanDataLogit = cleanData.drop(['fold','state','communityname','ViolentCrimesPerPop'], axis=1)\n",
    "outcome = 'highCrime'\n",
    "predictors = list(cleanDataLogit)\n",
    "predictors.remove(outcome)\n",
    "\n",
    "decisionTree = tree.DecisionTreeClassifier()\n",
    "\n",
    "kFoldAccuracy = model_selection.cross_val_score(decisionTree, cleanDataDT[predictors], cleanDataDT[outcome], cv=10, scoring='accuracy')\n",
    "kFoldPrecision = model_selection.cross_val_score(decisionTree, cleanDataDT[predictors], cleanDataDT[outcome], cv=10, scoring='precision')\n",
    "kFoldRecall = model_selection.cross_val_score(decisionTree, cleanDataDT[predictors], cleanDataDT[outcome], cv=10, scoring='recall')\n",
    "\n",
    "print ('The 10 Fold accuracy of the decision tree classifier is:\\n%s \\nAnd their mean is:\\n '%(str(kFoldAccuracy)), np.mean(kFoldAccuracy))\n",
    "print ('\\nThe 10 Fold precision of the decision tree classifier is:\\n%s \\nAnd their mean is:\\n '%(str(kFoldPrecision)), np.mean(kFoldPrecision))\n",
    "print ('\\nThe 10 Fold recall of the decision tree classifier is:\\n %s \\nAnd their mean is:\\n '%(str(kFoldRecall)), np.mean(kFoldRecall))\n",
    "\n"
   ]
  },
  {
   "cell_type": "code",
   "execution_count": 148,
   "metadata": {},
   "outputs": [
    {
     "name": "stdout",
     "output_type": "stream",
     "text": [
      "The 10 Fold accuracy of the naive baye's classifier is:\n",
      "[ 0.79        0.77        0.755       0.75        0.76        0.79396985\n",
      "  0.81407035  0.73869347  0.76884422  0.74242424] \n",
      "And their mean is:\n",
      "  0.768300213187\n",
      "\n",
      "The 10 Fold precision of the naive baye's classifier is:\n",
      "[ 0.95918367  0.90566038  0.93684211  0.91        0.95652174  0.95\n",
      "  0.98958333  0.92473118  0.92079208  0.91666667] \n",
      "And their mean is:\n",
      "  0.936998115723\n",
      "\n",
      "The 10 Fold recall of the naive baye's classifier is:\n",
      " [ 0.71212121  0.72727273  0.67424242  0.68939394  0.66666667  0.72519084\n",
      "  0.72519084  0.65648855  0.70992366  0.67175573] \n",
      "And their mean is:\n",
      "  0.695824658802\n"
     ]
    }
   ],
   "source": [
    "cleanDataNB = cleanData.drop(['state','fold','communityname','ViolentCrimesPerPop'], axis=1)\n",
    "NB = GaussianNB()\n",
    "\n",
    "NB = NB.fit(cleanDataNB[predictors], cleanData[outcome])\n",
    "kFoldAccuracy = model_selection.cross_val_score(NB, cleanDataNB[predictors], cleanDataNB[outcome], cv=10, scoring='accuracy')\n",
    "kFoldPrecision = model_selection.cross_val_score(NB, cleanDataNB[predictors], cleanDataNB[outcome], cv=10, scoring='precision')\n",
    "kFoldRecall = model_selection.cross_val_score(NB, cleanDataNB[predictors], cleanDataNB[outcome], cv=10, scoring='recall')\n",
    "\n",
    "print ('The 10 Fold accuracy of the naive baye\\'s classifier is:\\n%s \\nAnd their mean is:\\n '%(str(kFoldAccuracy)), np.mean(kFoldAccuracy))\n",
    "print ('\\nThe 10 Fold precision of the naive baye\\'s classifier is:\\n%s \\nAnd their mean is:\\n '%(str(kFoldPrecision)), np.mean(kFoldPrecision))\n",
    "print ('\\nThe 10 Fold recall of the naive baye\\'s classifier is:\\n %s \\nAnd their mean is:\\n '%(str(kFoldRecall)), np.mean(kFoldRecall))"
   ]
  },
  {
   "cell_type": "code",
   "execution_count": 149,
   "metadata": {},
   "outputs": [
    {
     "name": "stdout",
     "output_type": "stream",
     "text": [
      "The 10 Fold accuracy of the Linear SVC classifier is:\n",
      "[ 0.85        0.84        0.8         0.86        0.845       0.8241206\n",
      "  0.87437186  0.82914573  0.81407035  0.82323232] \n",
      "And their mean is:\n",
      "  0.835994086595\n",
      "\n",
      "The 10 Fold precision of the Linear SVC classifier is:\n",
      "[ 0.8984375   0.86764706  0.84328358  0.9         0.8976378   0.86923077\n",
      "  0.89552239  0.87596899  0.86153846  0.86363636] \n",
      "And their mean is:\n",
      "  0.87729029109\n",
      "\n",
      "The 10 Fold recall of the Linear SVC classifier is:\n",
      " [ 0.87121212  0.89393939  0.85606061  0.88636364  0.86363636  0.86259542\n",
      "  0.91603053  0.86259542  0.85496183  0.87022901] \n",
      "And their mean is:\n",
      "  0.873762433495\n"
     ]
    }
   ],
   "source": [
    "cleanDataSVC = cleanData.drop(['state','fold','communityname','ViolentCrimesPerPop'], axis=1)\n",
    "SVC = LinearSVC()\n",
    "\n",
    "SVC = SVC.fit(cleanDataSVC[predictors], cleanData[outcome])\n",
    "kFoldAccuracy = model_selection.cross_val_score(SVC, cleanDataSVC[predictors], cleanDataSVC[outcome], cv=10, scoring='accuracy')\n",
    "kFoldPrecision = model_selection.cross_val_score(SVC, cleanDataSVC[predictors], cleanDataSVC[outcome], cv=10, scoring='precision')\n",
    "kFoldRecall = model_selection.cross_val_score(SVC, cleanDataSVC[predictors], cleanDataSVC[outcome], cv=10, scoring='recall')\n",
    "\n",
    "print ('The 10 Fold accuracy of the Linear SVC classifier is:\\n%s \\nAnd their mean is:\\n '%(str(kFoldAccuracy)), np.mean(kFoldAccuracy))\n",
    "print ('\\nThe 10 Fold precision of the Linear SVC classifier is:\\n%s \\nAnd their mean is:\\n '%(str(kFoldPrecision)), np.mean(kFoldPrecision))\n",
    "print ('\\nThe 10 Fold recall of the Linear SVC classifier is:\\n %s \\nAnd their mean is:\\n '%(str(kFoldRecall)), np.mean(kFoldRecall))"
   ]
  },
  {
   "cell_type": "code",
   "execution_count": 150,
   "metadata": {},
   "outputs": [
    {
     "name": "stdout",
     "output_type": "stream",
     "text": [
      "The 10 Fold accuracy of the decision tree classifier is:\n",
      "[ 0.785       0.75        0.785       0.755       0.775       0.7638191\n",
      "  0.79396985  0.75879397  0.79899497  0.76262626] \n",
      "And their mean is:\n",
      "  0.772820415207\n",
      "\n",
      "The 10 Fold precision of the decision tree classifier is:\n",
      "[ 0.84848485  0.8125      0.84496124  0.832       0.8203125   0.83333333\n",
      "  0.84732824  0.8358209   0.83333333  0.81617647] \n",
      "And their mean is:\n",
      "  0.832425086585\n",
      "\n",
      "The 10 Fold recall of the decision tree classifier is:\n",
      " [ 0.82575758  0.81818182  0.84848485  0.8030303   0.81060606  0.80916031\n",
      "  0.83206107  0.83206107  0.82442748  0.81679389] \n",
      "And their mean is:\n",
      "  0.822056442285\n"
     ]
    }
   ],
   "source": [
    "dirtyData = pd.read_csv(\"communities-crime-full.csv\",na_values='?')\n",
    "dirtyData.fillna(dirtyData.mean(),inplace=True)\n",
    "dirtyData = dirtyData.drop(['county','fold','state','community','communityname'], axis=1)\n",
    "\n",
    "dirtyData['highCrime'] = 0\n",
    "condition = dirtyData['ViolentCrimesPerPop'] > thresh\n",
    "dirtyData.loc[condition, 'highCrime'] = 1\n",
    "\n",
    "dirtyDataDT = dirtyData.drop(['ViolentCrimesPerPop'], axis=1)\n",
    "outcome = 'highCrime'\n",
    "predictors = list(dirtyDataDT)\n",
    "predictors.remove(outcome)\n",
    "\n",
    "decisionTree = tree.DecisionTreeClassifier()\n",
    "\n",
    "kFoldAccuracy = model_selection.cross_val_score(decisionTree, dirtyDataDT[predictors], dirtyDataDT[outcome], cv=10, scoring='accuracy')\n",
    "kFoldPrecision = model_selection.cross_val_score(decisionTree, dirtyDataDT[predictors], dirtyDataDT[outcome], cv=10, scoring='precision')\n",
    "kFoldRecall = model_selection.cross_val_score(decisionTree, dirtyDataDT[predictors], dirtyDataDT[outcome], cv=10, scoring='recall')\n",
    "\n",
    "print ('The 10 Fold accuracy of the decision tree classifier is:\\n%s \\nAnd their mean is:\\n '%(str(kFoldAccuracy)), np.mean(kFoldAccuracy))\n",
    "print ('\\nThe 10 Fold precision of the decision tree classifier is:\\n%s \\nAnd their mean is:\\n '%(str(kFoldPrecision)), np.mean(kFoldPrecision))\n",
    "print ('\\nThe 10 Fold recall of the decision tree classifier is:\\n %s \\nAnd their mean is:\\n '%(str(kFoldRecall)), np.mean(kFoldRecall))"
   ]
  },
  {
   "cell_type": "code",
   "execution_count": 151,
   "metadata": {},
   "outputs": [
    {
     "name": "stdout",
     "output_type": "stream",
     "text": [
      "The 10 Fold accuracy of the naive baye's classifier is:\n",
      "[ 0.71        0.715       0.67        0.68        0.68        0.69849246\n",
      "  0.74874372  0.70854271  0.72864322  0.65151515] \n",
      "And their mean is:\n",
      "  0.699093726207\n",
      "\n",
      "The 10 Fold precision of the naive baye's classifier is:\n",
      "[ 0.95121951  0.93103448  0.94594595  0.925       0.94736842  0.92771084\n",
      "  1.          0.96202532  0.93258427  0.90789474] \n",
      "And their mean is:\n",
      "  0.943078352829\n",
      "\n",
      "The 10 Fold recall of the naive baye's classifier is:\n",
      " [ 0.59090909  0.61363636  0.53030303  0.56060606  0.54545455  0.58778626\n",
      "  0.61832061  0.58015267  0.63358779  0.52671756] \n",
      "And their mean is:\n",
      "  0.578747397641\n"
     ]
    }
   ],
   "source": [
    "dirtyDataNB = dirtyData.drop(['ViolentCrimesPerPop'], axis=1)\n",
    "NB = GaussianNB()\n",
    "\n",
    "NB = NB.fit(dirtyDataNB[predictors], dirtyData[outcome])\n",
    "kFoldAccuracy = model_selection.cross_val_score(NB, dirtyDataNB[predictors], dirtyDataNB[outcome], cv=10, scoring='accuracy')\n",
    "kFoldPrecision = model_selection.cross_val_score(NB, dirtyDataNB[predictors], dirtyDataNB[outcome], cv=10, scoring='precision')\n",
    "kFoldRecall = model_selection.cross_val_score(NB, dirtyDataNB[predictors], dirtyDataNB[outcome], cv=10, scoring='recall')\n",
    "\n",
    "print ('The 10 Fold accuracy of the naive baye\\'s classifier is:\\n%s \\nAnd their mean is:\\n '%(str(kFoldAccuracy)), np.mean(kFoldAccuracy))\n",
    "print ('\\nThe 10 Fold precision of the naive baye\\'s classifier is:\\n%s \\nAnd their mean is:\\n '%(str(kFoldPrecision)), np.mean(kFoldPrecision))\n",
    "print ('\\nThe 10 Fold recall of the naive baye\\'s classifier is:\\n %s \\nAnd their mean is:\\n '%(str(kFoldRecall)), np.mean(kFoldRecall))"
   ]
  },
  {
   "cell_type": "code",
   "execution_count": 152,
   "metadata": {},
   "outputs": [
    {
     "name": "stdout",
     "output_type": "stream",
     "text": [
      "The 10 Fold accuracy of the Linear SVC classifier is:\n",
      "[ 0.85        0.82        0.81        0.865       0.845       0.8241206\n",
      "  0.86934673  0.82914573  0.8040201   0.82828283] \n",
      "And their mean is:\n",
      "  0.834491599411\n",
      "\n",
      "The 10 Fold precision of the Linear SVC classifier is:\n",
      "[ 0.8984375   0.85820896  0.85074627  0.90076336  0.89147287  0.86363636\n",
      "  0.89473684  0.87596899  0.85384615  0.87022901] \n",
      "And their mean is:\n",
      "  0.875804631035\n",
      "\n",
      "The 10 Fold recall of the Linear SVC classifier is:\n",
      " [ 0.87121212  0.87121212  0.86363636  0.89393939  0.87121212  0.87022901\n",
      "  0.90839695  0.86259542  0.84732824  0.87022901] \n",
      "And their mean is:\n",
      "  0.872999074717\n"
     ]
    }
   ],
   "source": [
    "dirtyDataSVC = dirtyData.drop(['ViolentCrimesPerPop'], axis=1)\n",
    "SVC = LinearSVC()\n",
    "\n",
    "SVC = SVC.fit(dirtyDataSVC[predictors], dirtyData[outcome])\n",
    "kFoldAccuracy = model_selection.cross_val_score(SVC, dirtyDataSVC[predictors], dirtyDataSVC[outcome], cv=10, scoring='accuracy')\n",
    "kFoldPrecision = model_selection.cross_val_score(SVC, dirtyDataSVC[predictors], dirtyDataSVC[outcome], cv=10, scoring='precision')\n",
    "kFoldRecall = model_selection.cross_val_score(SVC, dirtyDataSVC[predictors], dirtyDataSVC[outcome], cv=10, scoring='recall')\n",
    "\n",
    "print ('The 10 Fold accuracy of the Linear SVC classifier is:\\n%s \\nAnd their mean is:\\n '%(str(kFoldAccuracy)), np.mean(kFoldAccuracy))\n",
    "print ('\\nThe 10 Fold precision of the Linear SVC classifier is:\\n%s \\nAnd their mean is:\\n '%(str(kFoldPrecision)), np.mean(kFoldPrecision))\n",
    "print ('\\nThe 10 Fold recall of the Linear SVC classifier is:\\n %s \\nAnd their mean is:\\n '%(str(kFoldRecall)), np.mean(kFoldRecall))"
   ]
  },
  {
   "attachments": {},
   "cell_type": "markdown",
   "metadata": {},
   "source": [
    "##### iv.\tHow are these results similar and different from the previous results (with a fixed threshold of 0.1). What does this say about how to approach such a problem.\n",
    "As we changed the threshold the accuracy, precision and recall improved. We visually analyzed the threshold vs MSE and threshold vs Accuracy to determine the best threshold value. To decide the threshold for such problem we should choose the threshold such that we minimize the error while optimizing accuracy. "
   ]
  },
  {
   "cell_type": "markdown",
   "metadata": {},
   "source": [
    "### b.\tExperiment with other learning methods such as polynomial or other kernels in SVM, decision forests, boosting, etc. and show your results. Make sure to explain clearly what you did.\n"
   ]
  },
  {
   "cell_type": "markdown",
   "metadata": {},
   "source": [
    "We experimented with bagging with Gaussian Naive Bayes and bagging with Linear SVC"
   ]
  },
  {
   "cell_type": "code",
   "execution_count": 153,
   "metadata": {},
   "outputs": [
    {
     "name": "stdout",
     "output_type": "stream",
     "text": [
      "The 10 Fold accuracy of the Bagging with naive bayes classifier is:\n",
      "[ 0.8         0.8         0.79        0.745       0.76        0.79899497\n",
      "  0.8241206   0.75376884  0.7839196   0.76262626] \n",
      "And their mean is:\n",
      "  0.781843028273\n",
      "\n",
      "The 10 Fold precision of the Bagging with nauve bayes classifier is:\n",
      "[ 0.95238095  0.91150442  0.93396226  0.88679245  0.95789474  0.94117647\n",
      "  0.97979798  0.91752577  0.90384615  0.90196078] \n",
      "And their mean is:\n",
      "  0.928684199272\n",
      "\n",
      "The 10 Fold recall of the Bagging with naive bayes classifier is:\n",
      " [ 0.73484848  0.75757576  0.72727273  0.70454545  0.70454545  0.73282443\n",
      "  0.72519084  0.70992366  0.71755725  0.71755725] \n",
      "And their mean is:\n",
      "  0.72318413139\n"
     ]
    }
   ],
   "source": [
    "cleanDataGNB = cleanData.drop(['fold','state','communityname','ViolentCrimesPerPop'], axis=1)\n",
    "outcome = 'highCrime'\n",
    "predictors = list(cleanDataGNB)\n",
    "predictors.remove(outcome)\n",
    "bagging = BaggingClassifier(GaussianNB(), max_samples=0.2, max_features=0.9)\n",
    "kFoldAccuracy = model_selection.cross_val_score(bagging, cleanDataGNB[predictors], cleanDataGNB[outcome], cv=10, scoring='accuracy')            \n",
    "kFoldPrecision = model_selection.cross_val_score(bagging, cleanDataGNB[predictors], cleanDataGNB[outcome], cv=10, scoring='precision')\n",
    "kFoldRecall = model_selection.cross_val_score(bagging, cleanDataGNB[predictors], cleanDataGNB[outcome], cv=10, scoring='recall')\n",
    "\n",
    "print ('The 10 Fold accuracy of the Bagging with naive bayes classifier is:\\n%s \\nAnd their mean is:\\n '%(str(kFoldAccuracy)), np.mean(kFoldAccuracy))\n",
    "print ('\\nThe 10 Fold precision of the Bagging with nauve bayes classifier is:\\n%s \\nAnd their mean is:\\n '%(str(kFoldPrecision)), np.mean(kFoldPrecision))\n",
    "print ('\\nThe 10 Fold recall of the Bagging with naive bayes classifier is:\\n %s \\nAnd their mean is:\\n '%(str(kFoldRecall)), np.mean(kFoldRecall))\n"
   ]
  },
  {
   "cell_type": "code",
   "execution_count": 154,
   "metadata": {},
   "outputs": [
    {
     "name": "stdout",
     "output_type": "stream",
     "text": [
      "The 10 Fold accuracy of the Bagging with naive bayes classifier is:\n",
      "[ 0.86        0.83        0.805       0.85        0.855       0.83417085\n",
      "  0.86432161  0.82914573  0.81407035  0.82828283] \n",
      "And their mean is:\n",
      "  0.8369991371\n",
      "\n",
      "The 10 Fold precision of the Bagging with nauve bayes classifier is:\n",
      "[ 0.89230769  0.87692308  0.86259542  0.89230769  0.8976378   0.87313433\n",
      "  0.90909091  0.87401575  0.85606061  0.87022901] \n",
      "And their mean is:\n",
      "  0.880430227584\n",
      "\n",
      "The 10 Fold recall of the Bagging with naive bayes classifier is:\n",
      " [ 0.85606061  0.86363636  0.87121212  0.87878788  0.84848485  0.88549618\n",
      "  0.90839695  0.86259542  0.85496183  0.87022901] \n",
      "And their mean is:\n",
      "  0.869986120749\n"
     ]
    }
   ],
   "source": [
    "cleanDataBG = cleanData.drop(['fold','state','communityname','ViolentCrimesPerPop'], axis=1)\n",
    "outcome = 'highCrime'\n",
    "predictors = list(cleanDataBG)\n",
    "predictors.remove(outcome)\n",
    "\n",
    "bagging = bagging = BaggingClassifier(LinearSVC(), max_samples=0.8, max_features=0.5)\n",
    "kFoldAccuracy = model_selection.cross_val_score(bagging, cleanDataGNB[predictors], cleanDataGNB[outcome], cv=10, scoring='accuracy')            \n",
    "kFoldPrecision = model_selection.cross_val_score(bagging, cleanDataGNB[predictors], cleanDataGNB[outcome], cv=10, scoring='precision')\n",
    "kFoldRecall = model_selection.cross_val_score(bagging, cleanDataGNB[predictors], cleanDataGNB[outcome], cv=10, scoring='recall')\n",
    "\n",
    "print ('The 10 Fold accuracy of the Bagging with naive bayes classifier is:\\n%s \\nAnd their mean is:\\n '%(str(kFoldAccuracy)), np.mean(kFoldAccuracy))\n",
    "print ('\\nThe 10 Fold precision of the Bagging with nauve bayes classifier is:\\n%s \\nAnd their mean is:\\n '%(str(kFoldPrecision)), np.mean(kFoldPrecision))\n",
    "print ('\\nThe 10 Fold recall of the Bagging with naive bayes classifier is:\\n %s \\nAnd their mean is:\\n '%(str(kFoldRecall)), np.mean(kFoldRecall))\n"
   ]
  },
  {
   "cell_type": "markdown",
   "metadata": {},
   "source": [
    "#### i.\tWhat method gives the best results?\n"
   ]
  },
  {
   "cell_type": "markdown",
   "metadata": {},
   "source": [
    "The best results are given by bagging with Linear SVC"
   ]
  },
  {
   "attachments": {},
   "cell_type": "markdown",
   "metadata": {},
   "source": [
    "#### ii. What feature(s) seem to be most consistently predictive of high crime rates? How reliable is this conclusion?\n",
    "most high crimes features seem to be consistent across all models.We think these features are reliable predictores of high crime."
   ]
  },
  {
   "attachments": {},
   "cell_type": "markdown",
   "metadata": {},
   "source": [
    "### c. Find other data sets to combine with this data set that might improve results. \n",
    "#### i. Explain precisely what you did to combine the datasets"
   ]
  },
  {
   "cell_type": "markdown",
   "metadata": {},
   "source": [
    "The following process was followed to combine the data:\n",
    "    1. Data was downloaded from: https://www.census.gov/did/www/saipe/downloads/estmod95/est95ALL.dat\n",
    "    2. Data was cleaned and EstPplInPoverty, PctEstPplInPoverty, EstMedHouseholdIncome attribute were selected and added to the communities clean data.\n",
    "        "
   ]
  },
  {
   "cell_type": "markdown",
   "metadata": {},
   "source": [
    "#### ii. Give accuracy, precision, and recall results with and without the new data.\n",
    "##### New Data:"
   ]
  },
  {
   "cell_type": "code",
   "execution_count": 155,
   "metadata": {
    "collapsed": true
   },
   "outputs": [],
   "source": [
    "aggData = pd.read_csv(\"communities_aggregated_data_clean.csv\")"
   ]
  },
  {
   "cell_type": "code",
   "execution_count": 156,
   "metadata": {},
   "outputs": [
    {
     "name": "stdout",
     "output_type": "stream",
     "text": [
      "The 10 Fold accuracy of the naive baye's classifier is:\n",
      "[ 0.7761194   0.835       0.8         0.79899497  0.70351759  0.66834171\n",
      "  0.8040201   0.74874372  0.71356784  0.79396985] \n",
      "And their mean is:\n",
      "  0.764227518188\n",
      "\n",
      "The 10 Fold precision of the naive baye's classifier is:\n",
      "[ 0.86486486  0.93396226  0.94736842  0.94736842  0.93421053  0.87341772\n",
      "  0.91346154  1.          0.77868852  0.94680851] \n",
      "And their mean is:\n",
      "  0.914015079265\n",
      "\n",
      "The 10 Fold recall of the naive baye's classifier is:\n",
      " [ 0.76190476  0.792       0.72        0.72        0.568       0.552       0.76\n",
      "  0.6         0.76        0.712     ] \n",
      "And their mean is:\n",
      "  0.69459047619\n"
     ]
    }
   ],
   "source": [
    "aggData['highCrime'] = 0\n",
    "condition = aggData['ViolentCrimesPerPop'] > 0.1\n",
    "aggData.loc[condition, 'highCrime'] = 1\n",
    "\n",
    "aggDataNB = aggData.drop(['state','fold','communityname','ViolentCrimesPerPop'], axis=1)\n",
    "NB = GaussianNB()\n",
    "\n",
    "NB = NB.fit(aggDataNB[predictors], aggData[outcome])\n",
    "\n",
    "kFoldAccuracy = model_selection.cross_val_score(NB, aggDataNB[predictors], aggDataNB[outcome], cv=10, scoring='accuracy')\n",
    "kFoldPrecision = model_selection.cross_val_score(NB, aggDataNB[predictors], aggDataNB[outcome], cv=10, scoring='precision')\n",
    "kFoldRecall = model_selection.cross_val_score(NB, aggDataNB[predictors], aggDataNB[outcome], cv=10, scoring='recall')\n",
    "\n",
    "print ('The 10 Fold accuracy of the naive baye\\'s classifier is:\\n%s \\nAnd their mean is:\\n '%(str(kFoldAccuracy)), np.mean(kFoldAccuracy))\n",
    "print ('\\nThe 10 Fold precision of the naive baye\\'s classifier is:\\n%s \\nAnd their mean is:\\n '%(str(kFoldPrecision)), np.mean(kFoldPrecision))\n",
    "print ('\\nThe 10 Fold recall of the naive baye\\'s classifier is:\\n %s \\nAnd their mean is:\\n '%(str(kFoldRecall)), np.mean(kFoldRecall))"
   ]
  },
  {
   "cell_type": "markdown",
   "metadata": {},
   "source": [
    "##### Old Data:"
   ]
  },
  {
   "cell_type": "code",
   "execution_count": 157,
   "metadata": {
    "collapsed": true
   },
   "outputs": [],
   "source": [
    "cleanDataNB = cleanData.drop(['state','fold','communityname','ViolentCrimesPerPop'], axis=1)\n",
    "NB = GaussianNB()\n",
    "\n",
    "NB = NB.fit(cleanDataNB[predictors], cleanData[outcome])"
   ]
  },
  {
   "cell_type": "code",
   "execution_count": 158,
   "metadata": {
    "scrolled": true
   },
   "outputs": [
    {
     "name": "stdout",
     "output_type": "stream",
     "text": [
      "The 10 Fold accuracy of the naive baye's classifier is:\n",
      "[ 0.79        0.77        0.755       0.75        0.76        0.79396985\n",
      "  0.81407035  0.73869347  0.76884422  0.74242424] \n",
      "And their mean is:\n",
      "  0.768300213187\n",
      "\n",
      "The 10 Fold precision of the naive baye's classifier is:\n",
      "[ 0.95918367  0.90566038  0.93684211  0.91        0.95652174  0.95\n",
      "  0.98958333  0.92473118  0.92079208  0.91666667] \n",
      "And their mean is:\n",
      "  0.936998115723\n",
      "\n",
      "The 10 Fold recall of the naive baye's classifier is:\n",
      " [ 0.71212121  0.72727273  0.67424242  0.68939394  0.66666667  0.72519084\n",
      "  0.72519084  0.65648855  0.70992366  0.67175573] \n",
      "And their mean is:\n",
      "  0.695824658802\n"
     ]
    }
   ],
   "source": [
    "kFoldAccuracy = model_selection.cross_val_score(NB, cleanDataNB[predictors], cleanDataNB[outcome], cv=10, scoring='accuracy')\n",
    "kFoldPrecision = model_selection.cross_val_score(NB, cleanDataNB[predictors], cleanDataNB[outcome], cv=10, scoring='precision')\n",
    "kFoldRecall = model_selection.cross_val_score(NB, cleanDataNB[predictors], cleanDataNB[outcome], cv=10, scoring='recall')\n",
    "\n",
    "print ('The 10 Fold accuracy of the naive baye\\'s classifier is:\\n%s \\nAnd their mean is:\\n '%(str(kFoldAccuracy)), np.mean(kFoldAccuracy))\n",
    "print ('\\nThe 10 Fold precision of the naive baye\\'s classifier is:\\n%s \\nAnd their mean is:\\n '%(str(kFoldPrecision)), np.mean(kFoldPrecision))\n",
    "print ('\\nThe 10 Fold recall of the naive baye\\'s classifier is:\\n %s \\nAnd their mean is:\\n '%(str(kFoldRecall)), np.mean(kFoldRecall))"
   ]
  },
  {
   "cell_type": "markdown",
   "metadata": {},
   "source": [
    "#### iii.\tDoes the added data help? What features help? Does it matter what learning method you use?\n"
   ]
  },
  {
   "cell_type": "markdown",
   "metadata": {},
   "source": [
    "The added data doesn't help improve the performance of the data irrespective of the learning method used."
   ]
  }
 ],
 "metadata": {
  "kernelspec": {
   "display_name": "Python 3",
   "language": "python",
   "name": "python3"
  },
  "language_info": {
   "codemirror_mode": {
    "name": "ipython",
    "version": 3
   },
   "file_extension": ".py",
   "mimetype": "text/x-python",
   "name": "python",
   "nbconvert_exporter": "python",
   "pygments_lexer": "ipython3",
   "version": "3.6.0"
  }
 },
 "nbformat": 4,
 "nbformat_minor": 2
}
